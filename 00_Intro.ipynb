{
 "cells": [
  {
   "cell_type": "markdown",
   "metadata": {},
   "source": [
    "# KBO 경기 승부 예측"
   ]
  },
  {
   "cell_type": "markdown",
   "metadata": {},
   "source": [
    "### 0) 선행연구 파악"
   ]
  },
  {
   "cell_type": "markdown",
   "metadata": {},
   "source": [
    "Predicting Run Production and Run Prevention in Baseball: The Impact of \n",
    "Sabermetrics\n",
    "\n",
    "http://citeseerx.ist.psu.edu/viewdoc/download?doi=10.1.1.457.3155&rep=rep1&type=pdf"
   ]
  },
  {
   "cell_type": "markdown",
   "metadata": {},
   "source": [
    "http://cs229.stanford.edu/proj2013/JiaWongZeng-PredictingTheMajorLeagueBaseballSeason.pdf"
   ]
  },
  {
   "cell_type": "markdown",
   "metadata": {},
   "source": [
    "https://towardsdatascience.com/selu-make-fnns-great-again-snn-8d61526802a9"
   ]
  },
  {
   "cell_type": "markdown",
   "metadata": {},
   "source": [
    "https://www.slideshare.net/JayRyu7/baseball-prediction-model-on-tensorflow"
   ]
  },
  {
   "cell_type": "markdown",
   "metadata": {},
   "source": [
    "Batting\n",
    "- Batting Average (BA): number of hits divided by number of at-bats\n",
    "- Slugging Percentage (SLG): number  of  bases divided by number of at-bats\n",
    "- Runs Batted In (RBI): number of runs a batter’s team scores by virtue of a hit\n",
    "- On-Base Percentage (OBP): how  often  a  batter reaches a base per at-bat\n",
    "- Walks Drawn (WB): number  of  times  a  batter reaches a base on balls"
   ]
  },
  {
   "cell_type": "markdown",
   "metadata": {},
   "source": [
    "Pitching\n",
    "- Earned Run Average (ERA): earned runs per 9 innings pitched\n",
    "- Hits Allowed (H): hits allowed to batters\n",
    "- Bases Allowed (B): bases allowed to batters\n",
    "- Strikeouts (K): strikeouts per inning pitched\n",
    "- Walks Thrown (WP): number of times a pitcher allowed a base on ball"
   ]
  },
  {
   "cell_type": "markdown",
   "metadata": {},
   "source": [
    "Team Stats\n",
    "- Errors (E): number of fielding errors committed by team\n",
    "- Past Head to Head Matchups: record  of  past games between the two teams\n",
    "- Left on Base: number of batters that reach a base but never score a run\n",
    "- Win Percentage (Win%): current season win percentage"
   ]
  },
  {
   "cell_type": "code",
   "execution_count": null,
   "metadata": {},
   "outputs": [],
   "source": []
  }
 ],
 "metadata": {
  "kernelspec": {
   "display_name": "Python 3",
   "language": "python",
   "name": "python3"
  },
  "language_info": {
   "codemirror_mode": {
    "name": "ipython",
    "version": 3
   },
   "file_extension": ".py",
   "mimetype": "text/x-python",
   "name": "python",
   "nbconvert_exporter": "python",
   "pygments_lexer": "ipython3",
   "version": "3.5.2"
  }
 },
 "nbformat": 4,
 "nbformat_minor": 2
}
